{
 "cells": [
  {
   "cell_type": "markdown",
   "metadata": {
    "collapsed": true
   },
   "source": [
    "# <font color='maroon'>Assessment</font>"
   ]
  },
  {
   "cell_type": "markdown",
   "metadata": {
    "collapsed": true
   },
   "source": [
    "Gross domestic product, or GDP, indicates how well an economy is performing. \n",
    "GDP is the total market value of everything produced by all the people and companies in the country over a given period.\n",
    "Many features determine this total value. Let's look at GDP data from South Africa between 1960 and 2017. In this notebook, you will be exploring and visualizing the dataset to communicate trends/patterns that show changes in the South African economy during this period. We've provided you with prompts for you to respond to. Uncomment and run the code where provided. Otherwise, add to and write the code necessary to come up with responses to the code. "
   ]
  },
  {
   "cell_type": "markdown",
   "metadata": {},
   "source": [
    "### Question 1(a)\n",
    "The data you will use is contained in a file called `API_ZAF_DS2_en_csv_v2.csv`. \n",
    "\n",
    "Open the data file and study the columns. The file contains many indicators and indicator codes for sections that contribute to GDP. Consider the following indicators. Create a dataframe to store values for these indicators between the years 2000 and 2017. Hint: If you use the indicator codes as indexes, set them as such.\n",
    "\n",
    "    BX.GSR.TRVL.ZS\n",
    "    BN.TRF.KOGT.CD\n",
    "    BM.TRF.PWKR.CD.DT\n",
    "    BG.GSR.NFSV.GD.ZS\n",
    "    AG.YLD.CREL.KG\n",
    "\n"
   ]
  },
  {
   "cell_type": "code",
   "execution_count": 1,
   "metadata": {},
   "outputs": [],
   "source": [
    "# your answer\n",
    "import pandas as pd\n",
    "import numpy as np\n",
    "from matplotlib import pyplot"
   ]
  },
  {
   "cell_type": "code",
   "execution_count": 2,
   "metadata": {},
   "outputs": [],
   "source": [
    "dataframe = pd.read_csv('API_ZAF_DS2_en_csv_v2.csv', delimiter =',', skipinitialspace = True, skiprows = 3) \n",
    "dataframe.set_index(\"Indicator Code\", inplace=True)\n",
    "\n",
    "\n",
    "\n",
    "#Creating a dataframe to store values for these indicators between the years 2000 and 2017. \n",
    "# Hint: If you use the indicator codes as indexes, set them as such.\n",
    "#   BX.GSR.TRVL.ZS\n",
    "#   BN.TRF.KOGT.CD\n",
    "#   BM.TRF.PWKR.CD.DT\n",
    "#   BG.GSR.NFSV.GD.ZS\n",
    "#   AG.YLD.CREL.KG\n",
    "\n",
    "df = dataframe.loc[['BX.GSR.TRVL.ZS','BN.TRF.KOGT.CD','BM.TRF.PWKR.CD.DT','BG.GSR.NFSV.GD.ZS','AG.YLD.CREL.KG'], '2000':'2017']"
   ]
  },
  {
   "cell_type": "markdown",
   "metadata": {},
   "source": [
    "### Question 1(b)\n",
    "Give summary statistics of the data."
   ]
  },
  {
   "cell_type": "code",
   "execution_count": 3,
   "metadata": {},
   "outputs": [
    {
     "data": {
      "text/html": [
       "<div>\n",
       "<style scoped>\n",
       "    .dataframe tbody tr th:only-of-type {\n",
       "        vertical-align: middle;\n",
       "    }\n",
       "\n",
       "    .dataframe tbody tr th {\n",
       "        vertical-align: top;\n",
       "    }\n",
       "\n",
       "    .dataframe thead th {\n",
       "        text-align: right;\n",
       "    }\n",
       "</style>\n",
       "<table border=\"1\" class=\"dataframe\">\n",
       "  <thead>\n",
       "    <tr style=\"text-align: right;\">\n",
       "      <th></th>\n",
       "      <th>2000</th>\n",
       "      <th>2001</th>\n",
       "      <th>2002</th>\n",
       "      <th>2003</th>\n",
       "      <th>2004</th>\n",
       "      <th>2005</th>\n",
       "      <th>2006</th>\n",
       "      <th>2007</th>\n",
       "      <th>2008</th>\n",
       "      <th>2009</th>\n",
       "      <th>2010</th>\n",
       "      <th>2011</th>\n",
       "      <th>2012</th>\n",
       "      <th>2013</th>\n",
       "      <th>2014</th>\n",
       "      <th>2015</th>\n",
       "      <th>2016</th>\n",
       "      <th>2017</th>\n",
       "    </tr>\n",
       "  </thead>\n",
       "  <tbody>\n",
       "    <tr>\n",
       "      <th>count</th>\n",
       "      <td>5.000000e+00</td>\n",
       "      <td>5.000000e+00</td>\n",
       "      <td>5.000000e+00</td>\n",
       "      <td>5.000000e+00</td>\n",
       "      <td>5.000000e+00</td>\n",
       "      <td>5.000000e+00</td>\n",
       "      <td>5.000000e+00</td>\n",
       "      <td>5.000000e+00</td>\n",
       "      <td>5.000000e+00</td>\n",
       "      <td>5.000000e+00</td>\n",
       "      <td>5.000000e+00</td>\n",
       "      <td>5.000000e+00</td>\n",
       "      <td>5.000000e+00</td>\n",
       "      <td>5.000000e+00</td>\n",
       "      <td>5.000000e+00</td>\n",
       "      <td>4.000000e+00</td>\n",
       "      <td>4.000000e+00</td>\n",
       "      <td>0.0</td>\n",
       "    </tr>\n",
       "    <tr>\n",
       "      <th>mean</th>\n",
       "      <td>1.228561e+08</td>\n",
       "      <td>1.041525e+08</td>\n",
       "      <td>9.810919e+07</td>\n",
       "      <td>1.498642e+08</td>\n",
       "      <td>1.974016e+08</td>\n",
       "      <td>2.144575e+08</td>\n",
       "      <td>2.171009e+08</td>\n",
       "      <td>2.401389e+08</td>\n",
       "      <td>2.288863e+08</td>\n",
       "      <td>2.339175e+08</td>\n",
       "      <td>2.767134e+08</td>\n",
       "      <td>2.912056e+08</td>\n",
       "      <td>2.698174e+08</td>\n",
       "      <td>2.414447e+08</td>\n",
       "      <td>2.230704e+08</td>\n",
       "      <td>2.498090e+08</td>\n",
       "      <td>2.283273e+08</td>\n",
       "      <td>NaN</td>\n",
       "    </tr>\n",
       "    <tr>\n",
       "      <th>std</th>\n",
       "      <td>2.747129e+08</td>\n",
       "      <td>2.328907e+08</td>\n",
       "      <td>2.278489e+08</td>\n",
       "      <td>3.113225e+08</td>\n",
       "      <td>4.127299e+08</td>\n",
       "      <td>4.627111e+08</td>\n",
       "      <td>4.687299e+08</td>\n",
       "      <td>5.214677e+08</td>\n",
       "      <td>4.976737e+08</td>\n",
       "      <td>5.087925e+08</td>\n",
       "      <td>6.016977e+08</td>\n",
       "      <td>6.326880e+08</td>\n",
       "      <td>5.871744e+08</td>\n",
       "      <td>5.258890e+08</td>\n",
       "      <td>4.867241e+08</td>\n",
       "      <td>4.869428e+08</td>\n",
       "      <td>4.457629e+08</td>\n",
       "      <td>NaN</td>\n",
       "    </tr>\n",
       "    <tr>\n",
       "      <th>min</th>\n",
       "      <td>0.000000e+00</td>\n",
       "      <td>0.000000e+00</td>\n",
       "      <td>-1.498920e+07</td>\n",
       "      <td>9.529789e+00</td>\n",
       "      <td>8.966245e+00</td>\n",
       "      <td>9.306290e+00</td>\n",
       "      <td>1.000832e+01</td>\n",
       "      <td>1.039523e+01</td>\n",
       "      <td>1.080158e+01</td>\n",
       "      <td>9.621928e+00</td>\n",
       "      <td>9.500313e+00</td>\n",
       "      <td>9.166387e+00</td>\n",
       "      <td>9.223126e+00</td>\n",
       "      <td>9.506173e+00</td>\n",
       "      <td>9.646650e+00</td>\n",
       "      <td>9.628507e+00</td>\n",
       "      <td>9.921611e+00</td>\n",
       "      <td>NaN</td>\n",
       "    </tr>\n",
       "    <tr>\n",
       "      <th>25%</th>\n",
       "      <td>7.990345e+00</td>\n",
       "      <td>8.295649e+00</td>\n",
       "      <td>9.170201e+00</td>\n",
       "      <td>6.596572e+01</td>\n",
       "      <td>6.385462e+01</td>\n",
       "      <td>6.353995e+01</td>\n",
       "      <td>6.217756e+01</td>\n",
       "      <td>5.915778e+01</td>\n",
       "      <td>5.683486e+01</td>\n",
       "      <td>5.775726e+01</td>\n",
       "      <td>5.655707e+01</td>\n",
       "      <td>5.485283e+01</td>\n",
       "      <td>5.666671e+01</td>\n",
       "      <td>5.497737e+01</td>\n",
       "      <td>5.548788e+01</td>\n",
       "      <td>4.356321e+01</td>\n",
       "      <td>4.383988e+01</td>\n",
       "      <td>NaN</td>\n",
       "    </tr>\n",
       "    <tr>\n",
       "      <th>50%</th>\n",
       "      <td>5.304698e+01</td>\n",
       "      <td>5.302119e+01</td>\n",
       "      <td>5.719602e+01</td>\n",
       "      <td>2.536800e+03</td>\n",
       "      <td>2.777600e+03</td>\n",
       "      <td>3.309200e+03</td>\n",
       "      <td>3.140800e+03</td>\n",
       "      <td>2.790300e+03</td>\n",
       "      <td>4.063000e+03</td>\n",
       "      <td>4.405300e+03</td>\n",
       "      <td>4.149100e+03</td>\n",
       "      <td>4.013600e+03</td>\n",
       "      <td>4.239300e+03</td>\n",
       "      <td>4.040700e+03</td>\n",
       "      <td>4.893500e+03</td>\n",
       "      <td>9.569120e+06</td>\n",
       "      <td>8.219356e+06</td>\n",
       "      <td>NaN</td>\n",
       "    </tr>\n",
       "    <tr>\n",
       "      <th>75%</th>\n",
       "      <td>2.762200e+03</td>\n",
       "      <td>2.423000e+03</td>\n",
       "      <td>2.771800e+03</td>\n",
       "      <td>4.356710e+07</td>\n",
       "      <td>5.240669e+07</td>\n",
       "      <td>3.043985e+07</td>\n",
       "      <td>3.023823e+07</td>\n",
       "      <td>2.797462e+07</td>\n",
       "      <td>2.549414e+07</td>\n",
       "      <td>2.572819e+07</td>\n",
       "      <td>3.076368e+07</td>\n",
       "      <td>3.332611e+07</td>\n",
       "      <td>2.913809e+07</td>\n",
       "      <td>2.523915e+07</td>\n",
       "      <td>2.176121e+07</td>\n",
       "      <td>2.593781e+08</td>\n",
       "      <td>2.365466e+08</td>\n",
       "      <td>NaN</td>\n",
       "    </tr>\n",
       "    <tr>\n",
       "      <th>max</th>\n",
       "      <td>6.142775e+08</td>\n",
       "      <td>5.207600e+08</td>\n",
       "      <td>5.055323e+08</td>\n",
       "      <td>7.057515e+08</td>\n",
       "      <td>9.345986e+08</td>\n",
       "      <td>1.041844e+09</td>\n",
       "      <td>1.055263e+09</td>\n",
       "      <td>1.172717e+09</td>\n",
       "      <td>1.118933e+09</td>\n",
       "      <td>1.143855e+09</td>\n",
       "      <td>1.352799e+09</td>\n",
       "      <td>1.422698e+09</td>\n",
       "      <td>1.319944e+09</td>\n",
       "      <td>1.181980e+09</td>\n",
       "      <td>1.093586e+09</td>\n",
       "      <td>9.800978e+08</td>\n",
       "      <td>8.968706e+08</td>\n",
       "      <td>NaN</td>\n",
       "    </tr>\n",
       "  </tbody>\n",
       "</table>\n",
       "</div>"
      ],
      "text/plain": [
       "               2000          2001          2002          2003          2004  \\\n",
       "count  5.000000e+00  5.000000e+00  5.000000e+00  5.000000e+00  5.000000e+00   \n",
       "mean   1.228561e+08  1.041525e+08  9.810919e+07  1.498642e+08  1.974016e+08   \n",
       "std    2.747129e+08  2.328907e+08  2.278489e+08  3.113225e+08  4.127299e+08   \n",
       "min    0.000000e+00  0.000000e+00 -1.498920e+07  9.529789e+00  8.966245e+00   \n",
       "25%    7.990345e+00  8.295649e+00  9.170201e+00  6.596572e+01  6.385462e+01   \n",
       "50%    5.304698e+01  5.302119e+01  5.719602e+01  2.536800e+03  2.777600e+03   \n",
       "75%    2.762200e+03  2.423000e+03  2.771800e+03  4.356710e+07  5.240669e+07   \n",
       "max    6.142775e+08  5.207600e+08  5.055323e+08  7.057515e+08  9.345986e+08   \n",
       "\n",
       "               2005          2006          2007          2008          2009  \\\n",
       "count  5.000000e+00  5.000000e+00  5.000000e+00  5.000000e+00  5.000000e+00   \n",
       "mean   2.144575e+08  2.171009e+08  2.401389e+08  2.288863e+08  2.339175e+08   \n",
       "std    4.627111e+08  4.687299e+08  5.214677e+08  4.976737e+08  5.087925e+08   \n",
       "min    9.306290e+00  1.000832e+01  1.039523e+01  1.080158e+01  9.621928e+00   \n",
       "25%    6.353995e+01  6.217756e+01  5.915778e+01  5.683486e+01  5.775726e+01   \n",
       "50%    3.309200e+03  3.140800e+03  2.790300e+03  4.063000e+03  4.405300e+03   \n",
       "75%    3.043985e+07  3.023823e+07  2.797462e+07  2.549414e+07  2.572819e+07   \n",
       "max    1.041844e+09  1.055263e+09  1.172717e+09  1.118933e+09  1.143855e+09   \n",
       "\n",
       "               2010          2011          2012          2013          2014  \\\n",
       "count  5.000000e+00  5.000000e+00  5.000000e+00  5.000000e+00  5.000000e+00   \n",
       "mean   2.767134e+08  2.912056e+08  2.698174e+08  2.414447e+08  2.230704e+08   \n",
       "std    6.016977e+08  6.326880e+08  5.871744e+08  5.258890e+08  4.867241e+08   \n",
       "min    9.500313e+00  9.166387e+00  9.223126e+00  9.506173e+00  9.646650e+00   \n",
       "25%    5.655707e+01  5.485283e+01  5.666671e+01  5.497737e+01  5.548788e+01   \n",
       "50%    4.149100e+03  4.013600e+03  4.239300e+03  4.040700e+03  4.893500e+03   \n",
       "75%    3.076368e+07  3.332611e+07  2.913809e+07  2.523915e+07  2.176121e+07   \n",
       "max    1.352799e+09  1.422698e+09  1.319944e+09  1.181980e+09  1.093586e+09   \n",
       "\n",
       "               2015          2016  2017  \n",
       "count  4.000000e+00  4.000000e+00   0.0  \n",
       "mean   2.498090e+08  2.283273e+08   NaN  \n",
       "std    4.869428e+08  4.457629e+08   NaN  \n",
       "min    9.628507e+00  9.921611e+00   NaN  \n",
       "25%    4.356321e+01  4.383988e+01   NaN  \n",
       "50%    9.569120e+06  8.219356e+06   NaN  \n",
       "75%    2.593781e+08  2.365466e+08   NaN  \n",
       "max    9.800978e+08  8.968706e+08   NaN  "
      ]
     },
     "execution_count": 3,
     "metadata": {},
     "output_type": "execute_result"
    }
   ],
   "source": [
    "df.describe() #Give summary statistics of the data."
   ]
  },
  {
   "cell_type": "markdown",
   "metadata": {},
   "source": [
    "### Question 2(a)\n",
    "Determine the mean GDP for each year given in the file."
   ]
  },
  {
   "cell_type": "code",
   "execution_count": 4,
   "metadata": {},
   "outputs": [
    {
     "name": "stdout",
     "output_type": "stream",
     "text": [
      "Mean GDP 2000 122856061.02169153\n",
      "Mean GDP 2001 104152497.11195448\n",
      "Mean GDP 2002 98109187.31966442\n",
      "Mean GDP 2003 149864247.12783208\n",
      "Mean GDP 2004 197401629.97909588\n",
      "Mean GDP 2005 214457513.41842335\n",
      "Mean GDP 2006 217100939.76877776\n",
      "Mean GDP 2007 240138881.2786141\n",
      "Mean GDP 2008 228886256.54412198\n",
      "Mean GDP 2009 233917542.86476454\n",
      "Mean GDP 2010 276713415.7419363\n",
      "Mean GDP 2011 291205609.6971204\n",
      "Mean GDP 2012 269817353.6552964\n",
      "Mean GDP 2013 241444734.98821148\n",
      "Mean GDP 2014 223070408.4844907\n",
      "Mean GDP 2015 249809022.2496703\n",
      "Mean GDP 2016 228327319.76120907\n",
      "Mean GDP 2017 nan\n"
     ]
    }
   ],
   "source": [
    "print(\"Mean GDP 2000\", df['2000'].mean()) \n",
    "print(\"Mean GDP 2001\", df['2001'].mean()) \n",
    "print(\"Mean GDP 2002\", df['2002'].mean()) \n",
    "print(\"Mean GDP 2003\", df['2003'].mean()) \n",
    "print(\"Mean GDP 2004\", df['2004'].mean()) \n",
    "print(\"Mean GDP 2005\", df['2005'].mean()) \n",
    "print(\"Mean GDP 2006\", df['2006'].mean()) \n",
    "print(\"Mean GDP 2007\", df['2007'].mean()) \n",
    "print(\"Mean GDP 2008\", df['2008'].mean()) \n",
    "print(\"Mean GDP 2009\", df['2009'].mean()) \n",
    "print(\"Mean GDP 2010\", df['2010'].mean()) \n",
    "print(\"Mean GDP 2011\", df['2011'].mean())\n",
    "print(\"Mean GDP 2012\", df['2012'].mean()) \n",
    "print(\"Mean GDP 2013\", df['2013'].mean()) \n",
    "print(\"Mean GDP 2014\", df['2014'].mean()) \n",
    "print(\"Mean GDP 2015\", df['2015'].mean()) \n",
    "print(\"Mean GDP 2016\", df['2016'].mean()) \n",
    "print(\"Mean GDP 2017\", df['2017'].mean()) \n",
    "\n"
   ]
  },
  {
   "cell_type": "markdown",
   "metadata": {},
   "source": [
    "### Question 2(b)\n",
    "Plot the mean GDP per year using a line graph. What trend do you observe in the data?"
   ]
  },
  {
   "cell_type": "code",
   "execution_count": 5,
   "metadata": {},
   "outputs": [
    {
     "data": {
      "text/html": [
       "<div>\n",
       "<style scoped>\n",
       "    .dataframe tbody tr th:only-of-type {\n",
       "        vertical-align: middle;\n",
       "    }\n",
       "\n",
       "    .dataframe tbody tr th {\n",
       "        vertical-align: top;\n",
       "    }\n",
       "\n",
       "    .dataframe thead th {\n",
       "        text-align: right;\n",
       "    }\n",
       "</style>\n",
       "<table border=\"1\" class=\"dataframe\">\n",
       "  <thead>\n",
       "    <tr style=\"text-align: right;\">\n",
       "      <th></th>\n",
       "      <th>2000</th>\n",
       "      <th>2001</th>\n",
       "      <th>2002</th>\n",
       "      <th>2003</th>\n",
       "      <th>2004</th>\n",
       "      <th>2005</th>\n",
       "      <th>2006</th>\n",
       "      <th>2007</th>\n",
       "      <th>2008</th>\n",
       "      <th>2009</th>\n",
       "      <th>2010</th>\n",
       "      <th>2011</th>\n",
       "      <th>2012</th>\n",
       "      <th>2013</th>\n",
       "      <th>2014</th>\n",
       "      <th>2015</th>\n",
       "      <th>2016</th>\n",
       "      <th>2017</th>\n",
       "    </tr>\n",
       "    <tr>\n",
       "      <th>Indicator Code</th>\n",
       "      <th></th>\n",
       "      <th></th>\n",
       "      <th></th>\n",
       "      <th></th>\n",
       "      <th></th>\n",
       "      <th></th>\n",
       "      <th></th>\n",
       "      <th></th>\n",
       "      <th></th>\n",
       "      <th></th>\n",
       "      <th></th>\n",
       "      <th></th>\n",
       "      <th></th>\n",
       "      <th></th>\n",
       "      <th></th>\n",
       "      <th></th>\n",
       "      <th></th>\n",
       "      <th></th>\n",
       "    </tr>\n",
       "  </thead>\n",
       "  <tbody>\n",
       "    <tr>\n",
       "      <th>BX.GSR.TRVL.ZS</th>\n",
       "      <td>5.304698e+01</td>\n",
       "      <td>5.302119e+01</td>\n",
       "      <td>5.719602e+01</td>\n",
       "      <td>6.596572e+01</td>\n",
       "      <td>6.385462e+01</td>\n",
       "      <td>6.353995e+01</td>\n",
       "      <td>6.217756e+01</td>\n",
       "      <td>5.915778e+01</td>\n",
       "      <td>5.683486e+01</td>\n",
       "      <td>5.775726e+01</td>\n",
       "      <td>5.655707e+01</td>\n",
       "      <td>5.485283e+01</td>\n",
       "      <td>5.666671e+01</td>\n",
       "      <td>5.497737e+01</td>\n",
       "      <td>5.548788e+01</td>\n",
       "      <td>5.487478e+01</td>\n",
       "      <td>5.514597e+01</td>\n",
       "      <td>NaN</td>\n",
       "    </tr>\n",
       "    <tr>\n",
       "      <th>BN.TRF.KOGT.CD</th>\n",
       "      <td>0.000000e+00</td>\n",
       "      <td>0.000000e+00</td>\n",
       "      <td>-1.498920e+07</td>\n",
       "      <td>4.356710e+07</td>\n",
       "      <td>5.240669e+07</td>\n",
       "      <td>3.043985e+07</td>\n",
       "      <td>3.023823e+07</td>\n",
       "      <td>2.797462e+07</td>\n",
       "      <td>2.549414e+07</td>\n",
       "      <td>2.572819e+07</td>\n",
       "      <td>3.076368e+07</td>\n",
       "      <td>3.332611e+07</td>\n",
       "      <td>2.913809e+07</td>\n",
       "      <td>2.523915e+07</td>\n",
       "      <td>2.176121e+07</td>\n",
       "      <td>1.913819e+07</td>\n",
       "      <td>1.643866e+07</td>\n",
       "      <td>NaN</td>\n",
       "    </tr>\n",
       "    <tr>\n",
       "      <th>BM.TRF.PWKR.CD.DT</th>\n",
       "      <td>6.142775e+08</td>\n",
       "      <td>5.207600e+08</td>\n",
       "      <td>5.055323e+08</td>\n",
       "      <td>7.057515e+08</td>\n",
       "      <td>9.345986e+08</td>\n",
       "      <td>1.041844e+09</td>\n",
       "      <td>1.055263e+09</td>\n",
       "      <td>1.172717e+09</td>\n",
       "      <td>1.118933e+09</td>\n",
       "      <td>1.143855e+09</td>\n",
       "      <td>1.352799e+09</td>\n",
       "      <td>1.422698e+09</td>\n",
       "      <td>1.319944e+09</td>\n",
       "      <td>1.181980e+09</td>\n",
       "      <td>1.093586e+09</td>\n",
       "      <td>9.800978e+08</td>\n",
       "      <td>8.968706e+08</td>\n",
       "      <td>NaN</td>\n",
       "    </tr>\n",
       "    <tr>\n",
       "      <th>BG.GSR.NFSV.GD.ZS</th>\n",
       "      <td>7.990345e+00</td>\n",
       "      <td>8.295649e+00</td>\n",
       "      <td>9.170201e+00</td>\n",
       "      <td>9.529789e+00</td>\n",
       "      <td>8.966245e+00</td>\n",
       "      <td>9.306290e+00</td>\n",
       "      <td>1.000832e+01</td>\n",
       "      <td>1.039523e+01</td>\n",
       "      <td>1.080158e+01</td>\n",
       "      <td>9.621928e+00</td>\n",
       "      <td>9.500313e+00</td>\n",
       "      <td>9.166387e+00</td>\n",
       "      <td>9.223126e+00</td>\n",
       "      <td>9.506173e+00</td>\n",
       "      <td>9.646650e+00</td>\n",
       "      <td>9.628507e+00</td>\n",
       "      <td>9.921611e+00</td>\n",
       "      <td>NaN</td>\n",
       "    </tr>\n",
       "    <tr>\n",
       "      <th>AG.YLD.CREL.KG</th>\n",
       "      <td>2.762200e+03</td>\n",
       "      <td>2.423000e+03</td>\n",
       "      <td>2.771800e+03</td>\n",
       "      <td>2.536800e+03</td>\n",
       "      <td>2.777600e+03</td>\n",
       "      <td>3.309200e+03</td>\n",
       "      <td>3.140800e+03</td>\n",
       "      <td>2.790300e+03</td>\n",
       "      <td>4.063000e+03</td>\n",
       "      <td>4.405300e+03</td>\n",
       "      <td>4.149100e+03</td>\n",
       "      <td>4.013600e+03</td>\n",
       "      <td>4.239300e+03</td>\n",
       "      <td>4.040700e+03</td>\n",
       "      <td>4.893500e+03</td>\n",
       "      <td>NaN</td>\n",
       "      <td>NaN</td>\n",
       "      <td>NaN</td>\n",
       "    </tr>\n",
       "  </tbody>\n",
       "</table>\n",
       "</div>"
      ],
      "text/plain": [
       "                           2000          2001          2002          2003  \\\n",
       "Indicator Code                                                              \n",
       "BX.GSR.TRVL.ZS     5.304698e+01  5.302119e+01  5.719602e+01  6.596572e+01   \n",
       "BN.TRF.KOGT.CD     0.000000e+00  0.000000e+00 -1.498920e+07  4.356710e+07   \n",
       "BM.TRF.PWKR.CD.DT  6.142775e+08  5.207600e+08  5.055323e+08  7.057515e+08   \n",
       "BG.GSR.NFSV.GD.ZS  7.990345e+00  8.295649e+00  9.170201e+00  9.529789e+00   \n",
       "AG.YLD.CREL.KG     2.762200e+03  2.423000e+03  2.771800e+03  2.536800e+03   \n",
       "\n",
       "                           2004          2005          2006          2007  \\\n",
       "Indicator Code                                                              \n",
       "BX.GSR.TRVL.ZS     6.385462e+01  6.353995e+01  6.217756e+01  5.915778e+01   \n",
       "BN.TRF.KOGT.CD     5.240669e+07  3.043985e+07  3.023823e+07  2.797462e+07   \n",
       "BM.TRF.PWKR.CD.DT  9.345986e+08  1.041844e+09  1.055263e+09  1.172717e+09   \n",
       "BG.GSR.NFSV.GD.ZS  8.966245e+00  9.306290e+00  1.000832e+01  1.039523e+01   \n",
       "AG.YLD.CREL.KG     2.777600e+03  3.309200e+03  3.140800e+03  2.790300e+03   \n",
       "\n",
       "                           2008          2009          2010          2011  \\\n",
       "Indicator Code                                                              \n",
       "BX.GSR.TRVL.ZS     5.683486e+01  5.775726e+01  5.655707e+01  5.485283e+01   \n",
       "BN.TRF.KOGT.CD     2.549414e+07  2.572819e+07  3.076368e+07  3.332611e+07   \n",
       "BM.TRF.PWKR.CD.DT  1.118933e+09  1.143855e+09  1.352799e+09  1.422698e+09   \n",
       "BG.GSR.NFSV.GD.ZS  1.080158e+01  9.621928e+00  9.500313e+00  9.166387e+00   \n",
       "AG.YLD.CREL.KG     4.063000e+03  4.405300e+03  4.149100e+03  4.013600e+03   \n",
       "\n",
       "                           2012          2013          2014          2015  \\\n",
       "Indicator Code                                                              \n",
       "BX.GSR.TRVL.ZS     5.666671e+01  5.497737e+01  5.548788e+01  5.487478e+01   \n",
       "BN.TRF.KOGT.CD     2.913809e+07  2.523915e+07  2.176121e+07  1.913819e+07   \n",
       "BM.TRF.PWKR.CD.DT  1.319944e+09  1.181980e+09  1.093586e+09  9.800978e+08   \n",
       "BG.GSR.NFSV.GD.ZS  9.223126e+00  9.506173e+00  9.646650e+00  9.628507e+00   \n",
       "AG.YLD.CREL.KG     4.239300e+03  4.040700e+03  4.893500e+03           NaN   \n",
       "\n",
       "                           2016  2017  \n",
       "Indicator Code                         \n",
       "BX.GSR.TRVL.ZS     5.514597e+01   NaN  \n",
       "BN.TRF.KOGT.CD     1.643866e+07   NaN  \n",
       "BM.TRF.PWKR.CD.DT  8.968706e+08   NaN  \n",
       "BG.GSR.NFSV.GD.ZS  9.921611e+00   NaN  \n",
       "AG.YLD.CREL.KG              NaN   NaN  "
      ]
     },
     "execution_count": 5,
     "metadata": {},
     "output_type": "execute_result"
    }
   ],
   "source": [
    "df.head()"
   ]
  },
  {
   "cell_type": "code",
   "execution_count": 6,
   "metadata": {},
   "outputs": [
    {
     "data": {
      "text/plain": [
       "[<matplotlib.lines.Line2D at 0x7f852e8c06d8>]"
      ]
     },
     "execution_count": 6,
     "metadata": {},
     "output_type": "execute_result"
    },
    {
     "data": {
      "image/png": "[encoded data removed]",
      "text/plain": [
       "<Figure size 1440x720 with 1 Axes>"
      ]
     },
     "metadata": {},
     "output_type": "display_data"
    }
   ],
   "source": [
    "GDPList = [df['2000'].sum(), df['2001'].sum(), df['2002'].sum(), df['2003'].sum(), df['2004'].sum(), df['2005'].sum(), df['2006'].sum(),\n",
    "       df['2007'].sum(), df['2008'].sum(), df['2009'].sum(), df['2010'].sum(), df['2011'].sum(), df['2012'].sum(),\n",
    "       df['2013'].sum(), df['2014'].sum(), df['2015'].sum(), df['2016'].sum(), df['2017'].sum()]\n",
    "\n",
    "time_ = ['2000', '2001','2002','2003','2004','2005','2006','2007','2008','2009','2010','2011','2012','2013','2014','2015','2016','2017']\n",
    "\n",
    "pyplot.figure(figsize=(20,10))\n",
    "pyplot.plot(time_,GDPList)            \n"
   ]
  },
  {
   "cell_type": "markdown",
   "metadata": {},
   "source": [
    "### Question 3\n",
    "Energy is quite an important sector the economy. Let's look at how much the energy industries contribute to GDP. Compare the mean contribution to GDP by the electricity, renewable energy and fossil fuels over the years. The `Indicator` column can assist you with this. Identify any other energy sectors. "
   ]
  },
  {
   "cell_type": "code",
   "execution_count": 7,
   "metadata": {},
   "outputs": [
    {
     "data": {
      "text/plain": [
       "[<matplotlib.lines.Line2D at 0x7f852e873f60>,\n",
       " <matplotlib.lines.Line2D at 0x7f852e87b080>]"
      ]
     },
     "execution_count": 7,
     "metadata": {},
     "output_type": "execute_result"
    },
    {
     "data": {
      "image/png": "[encoded data removed]",
      "text/plain": [
       "<Figure size 1440x720 with 1 Axes>"
      ]
     },
     "metadata": {},
     "output_type": "display_data"
    }
   ],
   "source": [
    "df2 = dataframe.loc[['EG.USE.CRNW.ZS','EG.USE.COMM.FO.ZS'], '2000':'2017']\n",
    "\n",
    "EnergyList = [df2['2000'].sum(), df2['2001'].sum(), df2['2002'].sum(), df2['2003'].sum(), df2['2004'].sum(), df2['2005'].sum(),\n",
    "              df2['2006'].sum(), df2['2007'].sum(), df2['2008'].sum(), df2['2009'].sum(), df2['2010'].sum(), df2['2011'].sum(), \n",
    "              df2['2012'].sum(), df2['2013'].sum(), df2['2014'].sum(), df2['2015'].sum(), df2['2016'].sum(), df2['2017'].sum()]\n",
    "\n",
    "pyplot.figure(figsize=(20,10))\n",
    "pyplot.plot(time_,GDPList,EnergyList)  \n",
    "\n",
    "# contribution to GDP worked out on energy Let's look at how much the energy industries contribute to GDP\n",
    "\n",
    " # Combustible renewables and waste (% of total energy)\n",
    " # Fossil fuel energy consumption (% of total)\n"
   ]
  },
  {
   "cell_type": "markdown",
   "metadata": {},
   "source": [
    "### Question 4(a)\n",
    "Between 1960 to 1969 some sectors had no data. Use a bar graph and show how these sectors have progressed since 1970."
   ]
  },
  {
   "cell_type": "code",
   "execution_count": 8,
   "metadata": {},
   "outputs": [
    {
     "data": {
      "text/plain": [
       "Text(0,0.5,'Net flows on external debt, public and publicly guaranteed (PPG) (NFL, current US$)')"
      ]
     },
     "execution_count": 8,
     "metadata": {},
     "output_type": "execute_result"
    },
    {
     "data": {
      "image/png": "[encoded data removed]",
      "text/plain": [
       "<Figure size 1440x720 with 1 Axes>"
      ]
     },
     "metadata": {},
     "output_type": "display_data"
    }
   ],
   "source": [
    "# your answer\n",
    "time_= list(range(1970, 2018)) \n",
    "df3 = dataframe.loc['DT.NFL.DPPG.CD', '1970':'2017']\n",
    "x= df3.tolist()\n",
    "pyplot.figure(figsize=(20,10))\n",
    "pyplot.bar(time_,x)                    \n",
    "pyplot.xlabel(\"Year\")\n",
    "pyplot.ylabel(\"Net flows on external debt, public and publicly guaranteed (PPG) (NFL, current US$)\")"
   ]
  },
  {
   "cell_type": "markdown",
   "metadata": {},
   "source": [
    "### Question4(b)\n",
    "Discuss how you think these missing values or no information data should be handled. When is it okay to replace missing values with the mean or the median? Plot a graph to show how the mean GDP is affected when missing values are replaced with the mean and the median. Do these plots differ? Do these plots differ from the plot in question 2(b)?"
   ]
  },
  {
   "cell_type": "code",
   "execution_count": 9,
   "metadata": {},
   "outputs": [
    {
     "data": {
      "text/plain": [
       "Text(0,0.5,'Net flows on external debt, public and publicly guaranteed (PPG) (NFL, current US$)')"
      ]
     },
     "execution_count": 9,
     "metadata": {},
     "output_type": "execute_result"
    },
    {
     "data": {
      "image/png": "[encoded data removed]",
      "text/plain": [
       "<Figure size 1440x720 with 1 Axes>"
      ]
     },
     "metadata": {},
     "output_type": "display_data"
    }
   ],
   "source": [
    "df3 = dataframe.loc['DT.NFL.DPPG.CD', '1960':'2017']\n",
    "df3= df3.fillna(df3.mean())\n",
    "\n",
    "x= df3.tolist()\n",
    "time_= list(range(1960, 2018))\n",
    "pyplot.figure(figsize=(20,10))\n",
    "pyplot.bar(time_,x)                    \n",
    "pyplot.xlabel(\"Year\")\n",
    "pyplot.ylabel(\"Net flows on external debt, public and publicly guaranteed (PPG) (NFL, current US$)\")\n"
   ]
  },
  {
   "cell_type": "markdown",
   "metadata": {},
   "source": [
    "### Question 5\n",
    "Which sectors of the economy have contributed the most to GDP. Perhaps consider grouping similar sectors into one group and determine which group has the biggest value contributed to GDP over a certain period."
   ]
  },
  {
   "cell_type": "code",
   "execution_count": 10,
   "metadata": {},
   "outputs": [
    {
     "data": {
      "text/plain": [
       "[<matplotlib.lines.Line2D at 0x7f852e692358>,\n",
       " <matplotlib.lines.Line2D at 0x7f852e6924a8>]"
      ]
     },
     "execution_count": 10,
     "metadata": {},
     "output_type": "execute_result"
    },
    {
     "data": {
      "image/png": "[encoded data removed]",
      "text/plain": [
       "<Figure size 1440x720 with 1 Axes>"
      ]
     },
     "metadata": {},
     "output_type": "display_data"
    }
   ],
   "source": [
    "GDPContributors = dataframe.loc[['SH.XPD.TOTL.ZS',     #SH.XPD.TOTL.ZS Health expenditure, total (% of GDP)\n",
    "                            'SE.XPD.TOTL.GD.ZS',  #SE.XPD.TOTL.GD.ZS Government expenditure on education, total (% of GDP)\n",
    "                            'GC.XPN.TOTL.GD.ZS',  #GC.XPN.TOTL.GD.ZS Expense (% of GDP)\n",
    "                            'GC.TAX.TOTL.GD.ZS',  #GC.TAX.TOTL.GD.ZS Tax revenue (% of GDP)\n",
    "                            'GC.REV.XGRT.GD.ZS',  #GC.REV.XGRT.GD.ZS Revenue, excluding grants (% of GDP)\n",
    "                            'GC.NLD.TOTL.GD.ZS',  #GC.NLD.TOTL.GD.ZS Net lending (+) / net borrowing (-) (% of GDP)\n",
    "                            'GC.NFN.TOTL.GD.ZS',  #GC.NFN.TOTL.GD.ZS Net investment in nonfinancial assets (% of GDP)\n",
    "                            'GC.LBL.TOTL.GD.ZS'],  #GC.LBL.TOTL.GD.ZS Net incurrence of liabilities, total (% of GDP)\n",
    "                             '1960':'2017'] \n",
    "\n",
    "x1 = GDPContributors.loc['SH.XPD.TOTL.ZS', :].tolist()\n",
    "x2 = GDPContributors.loc['SE.XPD.TOTL.GD.ZS', :].tolist()\n",
    "x3 = GDPContributors.loc['GC.XPN.TOTL.GD.ZS', :].tolist()\n",
    "x4 = GDPContributors.loc['GC.TAX.TOTL.GD.ZS', :].tolist()\n",
    "x5 = GDPContributors.loc['GC.REV.XGRT.GD.ZS', :].tolist()\n",
    "x6 = GDPContributors.loc['GC.NLD.TOTL.GD.ZS', :].tolist()\n",
    "x7 = GDPContributors.loc['GC.NFN.TOTL.GD.ZS', :].tolist()\n",
    "x8 = GDPContributors.loc['GC.LBL.TOTL.GD.ZS', :].tolist()\n",
    "time_= list(range(1960, 2018))\n",
    "\n",
    "pyplot.figure(figsize=(20,10))\n",
    "pyplot.plot(time_,x3,x2)#,x2,x3,x4,x5,x6,x7,x8)  "
   ]
  },
  {
   "cell_type": "code",
   "execution_count": null,
   "metadata": {},
   "outputs": [],
   "source": []
  },
  {
   "cell_type": "code",
   "execution_count": null,
   "metadata": {},
   "outputs": [],
   "source": []
  }
 ],
 "metadata": {
  "kernelspec": {
   "display_name": "Python 3",
   "language": "python",
   "name": "python3"
  },
  "language_info": {
   "codemirror_mode": {
    "name": "ipython",
    "version": 3
   },
   "file_extension": ".py",
   "mimetype": "text/x-python",
   "name": "python",
   "nbconvert_exporter": "python",
   "pygments_lexer": "ipython3",
   "version": "3.6.4"
  }
 },
 "nbformat": 4,
 "nbformat_minor": 2
}
